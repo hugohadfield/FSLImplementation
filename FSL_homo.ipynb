{
 "cells": [
  {
   "cell_type": "code",
   "execution_count": 1,
   "metadata": {},
   "outputs": [
    {
     "name": "stderr",
     "output_type": "stream",
     "text": [
      "/work/anaconda/lib/python3.7/site-packages/numba/compiler.py:602: NumbaPerformanceWarning: \u001b[1m\n",
      "The keyword argument 'parallel=True' was specified but no transformation for parallel execution was possible.\n",
      "\n",
      "To find out why, try turning on parallel diagnostics, see http://numba.pydata.org/numba-doc/latest/user/parallel.html#diagnostics for help.\n",
      "\u001b[1m\n",
      "File \"../../../work/anaconda/lib/python3.7/site-packages/clifford/__init__.py\", line 83:\u001b[0m\n",
      "\u001b[1m    @numba.njit(parallel=NUMBA_PARALLEL)\n",
      "\u001b[1m    def play_games():\n",
      "\u001b[0m    \u001b[1m^\u001b[0m\u001b[0m\n",
      "\u001b[0m\n",
      "  self.func_ir.loc))\n"
     ]
    }
   ],
   "source": [
    "from clifford.g4 import *\n",
    "import numpy as np\n",
    "from clifford import MultiVector\n",
    "import numbers"
   ]
  },
  {
   "cell_type": "code",
   "execution_count": 2,
   "metadata": {},
   "outputs": [
    {
     "name": "stdout",
     "output_type": "stream",
     "text": [
      "1.0\n",
      "1.0\n",
      "1.0\n",
      "1.0\n"
     ]
    }
   ],
   "source": [
    "# Using a normal 4d space\n",
    "print(e1*e1)\n",
    "print(e2*e2)\n",
    "print(e3*e3)\n",
    "print(e4*e4)"
   ]
  },
  {
   "cell_type": "code",
   "execution_count": 3,
   "metadata": {},
   "outputs": [],
   "source": [
    "I4 = e1234\n",
    "\n",
    "def up(x):\n",
    "    return x + e4\n",
    "\n",
    "def homo(x):\n",
    "    return x/((x|e4)[0])\n",
    "\n",
    "def down(x):\n",
    "    return homo(x)(e123)\n",
    "\n",
    "def meet(X, Y):\n",
    "    return ((X*I4)^(Y*I4))*I4\n",
    "\n",
    "def random_euc_point():\n",
    "    return random.randn()*e1 + random.randn()*e2 + random.randn()*e3\n",
    "\n",
    "def random_point():\n",
    "    return up(random_euc_point())"
   ]
  },
  {
   "cell_type": "code",
   "execution_count": 4,
   "metadata": {},
   "outputs": [
    {
     "name": "stdout",
     "output_type": "stream",
     "text": [
      "(1.0^e1) + (1.0^e4)\n",
      "(1.0^e2) + (1.0^e4)\n",
      "(2.0^e1) - (3.0^e2) + (1.0^e3) + (1.0^e4)\n"
     ]
    }
   ],
   "source": [
    "# Create some points\n",
    "A = up(1.0*e1)\n",
    "B = up(1.0*e2)\n",
    "C = up(2.0*e1 - 3.0*e2 + 1.0*e3)\n",
    "print(A)\n",
    "print(B)\n",
    "print(C)"
   ]
  },
  {
   "cell_type": "code",
   "execution_count": 5,
   "metadata": {},
   "outputs": [
    {
     "name": "stdout",
     "output_type": "stream",
     "text": [
      "-(3.0^e12) + (1.0^e13) - (1.0^e14) + (3.0^e24) - (1.0^e34)\n",
      "-(2.0^e124) + (1.0^e234)\n"
     ]
    }
   ],
   "source": [
    "# Wedge the points to give a line and a plane\n",
    "L1 = A^C\n",
    "P2 = B^C^up(0*e1)\n",
    "print(L1)\n",
    "print(P2)"
   ]
  },
  {
   "cell_type": "code",
   "execution_count": 6,
   "metadata": {},
   "outputs": [
    {
     "data": {
      "text/plain": [
       "(2.0^e1) - (3.0^e2) + (1.0^e3) + (1.0^e4)"
      ]
     },
     "execution_count": 6,
     "metadata": {},
     "output_type": "execute_result"
    }
   ],
   "source": [
    "# Perform the meet as usual with the dual and wedge\n",
    "meet(L1,P2)"
   ]
  },
  {
   "cell_type": "code",
   "execution_count": 7,
   "metadata": {},
   "outputs": [
    {
     "data": {
      "text/plain": [
       "(2.0^e1) - (3.0^e2) + (1.0^e3)"
      ]
     },
     "execution_count": 7,
     "metadata": {},
     "output_type": "execute_result"
    }
   ],
   "source": [
    "down(meet(L1,P2))"
   ]
  },
  {
   "cell_type": "markdown",
   "metadata": {},
   "source": [
    "# Translation rotors"
   ]
  },
  {
   "cell_type": "code",
   "execution_count": 8,
   "metadata": {},
   "outputs": [],
   "source": [
    "def translation_rotor(t):\n",
    "    return 0.5*t*e4 + 1"
   ]
  },
  {
   "cell_type": "code",
   "execution_count": 9,
   "metadata": {},
   "outputs": [
    {
     "name": "stdout",
     "output_type": "stream",
     "text": [
      "1.0 + (5.0^e14) + (2.5^e34)\n",
      "32.25\n"
     ]
    }
   ],
   "source": [
    "t = 10*e1+5*e3\n",
    "R = translation_rotor(t)\n",
    "print(R)\n",
    "print(R*~R)"
   ]
  },
  {
   "cell_type": "code",
   "execution_count": 10,
   "metadata": {},
   "outputs": [
    {
     "data": {
      "text/plain": [
       "(12.0^e1) - (3.0^e2) + (6.0^e3) + (1.0^e4)"
      ]
     },
     "execution_count": 10,
     "metadata": {},
     "output_type": "execute_result"
    }
   ],
   "source": [
    "up(down(C) + t)"
   ]
  },
  {
   "cell_type": "code",
   "execution_count": 11,
   "metadata": {},
   "outputs": [
    {
     "data": {
      "text/plain": [
       "(0.91403^e1) + (1.75113^e2) + (0.45701^e3) + (1.0^e4)"
      ]
     },
     "execution_count": 11,
     "metadata": {},
     "output_type": "execute_result"
    }
   ],
   "source": [
    "homo(R*C*~R)"
   ]
  },
  {
   "cell_type": "code",
   "execution_count": 12,
   "metadata": {},
   "outputs": [
    {
     "data": {
      "text/plain": [
       "(12.0^e1) - (3.0^e2) + (6.0^e3) + (1.0^e4)"
      ]
     },
     "execution_count": 12,
     "metadata": {},
     "output_type": "execute_result"
    }
   ],
   "source": [
    "C - (e4|(t^C))"
   ]
  },
  {
   "cell_type": "markdown",
   "metadata": {},
   "source": [
    "# Rotation rotors"
   ]
  },
  {
   "cell_type": "code",
   "execution_count": 13,
   "metadata": {},
   "outputs": [],
   "source": [
    "def rotation_rotor(m,n,theta):\n",
    "    B = (m*n).normal()\n",
    "    rotor = np.cos(theta / 2) - B * np.sin(theta / 2)\n",
    "    return rotor"
   ]
  },
  {
   "cell_type": "code",
   "execution_count": 14,
   "metadata": {},
   "outputs": [
    {
     "name": "stdout",
     "output_type": "stream",
     "text": [
      "0.92388 - (0.38268^e12)\n",
      "1.0\n"
     ]
    }
   ],
   "source": [
    "R = rotation_rotor(e1,e2,np.pi/4)\n",
    "print(R)\n",
    "print(R*~R)"
   ]
  },
  {
   "cell_type": "code",
   "execution_count": 15,
   "metadata": {},
   "outputs": [
    {
     "name": "stdout",
     "output_type": "stream",
     "text": [
      "(0.70711^e1) + (0.70711^e2) + (1.0^e4)\n",
      "(0.70711^e1) + (0.70711^e2)\n",
      "(0.70711^e1) + (0.70711^e2)\n",
      "(3.53553^e1) - (0.70711^e2) + (1.0^e3)\n",
      "(3.53553^e1) - (0.70711^e2) + (1.0^e3)\n"
     ]
    }
   ],
   "source": [
    "print(R*(up(e1)*~R))\n",
    "print(down(R*(up(e1)*~R)))\n",
    "print(R*e1*~R)\n",
    "print(down((R*C*~R)))\n",
    "print(down((R*(C*I4)*~R)*I4))"
   ]
  },
  {
   "cell_type": "code",
   "execution_count": null,
   "metadata": {},
   "outputs": [],
   "source": []
  },
  {
   "cell_type": "code",
   "execution_count": null,
   "metadata": {},
   "outputs": [],
   "source": []
  },
  {
   "cell_type": "code",
   "execution_count": null,
   "metadata": {},
   "outputs": [],
   "source": []
  }
 ],
 "metadata": {
  "kernelspec": {
   "display_name": "Python 3",
   "language": "python",
   "name": "python3"
  },
  "language_info": {
   "codemirror_mode": {
    "name": "ipython",
    "version": 3
   },
   "file_extension": ".py",
   "mimetype": "text/x-python",
   "name": "python",
   "nbconvert_exporter": "python",
   "pygments_lexer": "ipython3",
   "version": "3.7.3"
  }
 },
 "nbformat": 4,
 "nbformat_minor": 2
}
