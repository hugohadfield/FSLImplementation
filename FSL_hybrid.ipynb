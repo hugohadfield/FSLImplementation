{
 "cells": [
  {
   "cell_type": "code",
   "execution_count": 1,
   "metadata": {},
   "outputs": [
    {
     "name": "stderr",
     "output_type": "stream",
     "text": [
      "/work/anaconda/lib/python3.7/site-packages/numba/compiler.py:602: NumbaPerformanceWarning: \u001b[1m\n",
      "The keyword argument 'parallel=True' was specified but no transformation for parallel execution was possible.\n",
      "\n",
      "To find out why, try turning on parallel diagnostics, see http://numba.pydata.org/numba-doc/latest/user/parallel.html#diagnostics for help.\n",
      "\u001b[1m\n",
      "File \"../../../work/anaconda/lib/python3.7/site-packages/clifford/__init__.py\", line 83:\u001b[0m\n",
      "\u001b[1m    @numba.njit(parallel=NUMBA_PARALLEL)\n",
      "\u001b[1m    def play_games():\n",
      "\u001b[0m    \u001b[1m^\u001b[0m\u001b[0m\n",
      "\u001b[0m\n",
      "  self.func_ir.loc))\n"
     ]
    }
   ],
   "source": [
    "from clifford.g4 import *\n",
    "import numpy as np\n",
    "from clifford import MultiVector, MVArray\n",
    "import numbers"
   ]
  },
  {
   "cell_type": "code",
   "execution_count": 2,
   "metadata": {},
   "outputs": [
    {
     "name": "stdout",
     "output_type": "stream",
     "text": [
      "1.0\n",
      "1.0\n",
      "1.0\n",
      "1.0\n"
     ]
    }
   ],
   "source": [
    "# Using a normal 4d space\n",
    "print(e1*e1)\n",
    "print(e2*e2)\n",
    "print(e3*e3)\n",
    "print(e4*e4)"
   ]
  },
  {
   "cell_type": "code",
   "execution_count": 3,
   "metadata": {},
   "outputs": [],
   "source": [
    "class HybridMV:\n",
    "    def __init__(self, internal_array=None):\n",
    "        if internal_array is None:\n",
    "            self.internal_array = MVArray([0*e1, 0*e1])\n",
    "        else:\n",
    "            self.internal_array = MVArray(internal_array)\n",
    "            \n",
    "    def __add__(self, other):\n",
    "        if issubclass(other.__class__, HybridMV):\n",
    "            return HybridMV(self.internal_array + other.internal_array)\n",
    "        else:\n",
    "            new_mv = HybridMV(self.internal_array)\n",
    "            new_mv.internal_array[0] += other\n",
    "            return new_mv\n",
    "    \n",
    "    def __rmul__(self, other):\n",
    "        if issubclass(other.__class__, numbers.Number):\n",
    "            return HybridMV(other*self.internal_array)\n",
    "    \n",
    "    def __mul__(self, other):\n",
    "        if issubclass(other.__class__, numbers.Number):\n",
    "            return HybridMV(self.internal_array*other)\n",
    "        if issubclass(other.__class__, MultiVector):\n",
    "            return HybridMV(self.internal_array*other)\n",
    "        elif issubclass(other.__class__, HybridMV):\n",
    "            newmv = HybridMV(self.internal_array*other.internal_array[0])\n",
    "            newmv.internal_array[1] += self.internal_array[0]*other.internal_array[1]\n",
    "            return newmv\n",
    "        \n",
    "    def __xor__(self, other):\n",
    "        if issubclass(other.__class__, MultiVector):\n",
    "            return HybridMV(self.internal_array^other)\n",
    "        elif issubclass(other.__class__, HybridMV):\n",
    "            newmv = HybridMV(self.internal_array^other.internal_array[0])\n",
    "            newmv.internal_array[1] += self.internal_array[0]^other.internal_array[1]\n",
    "            return newmv\n",
    "        \n",
    "    def __pow__(self, other):\n",
    "        new = HybridMV([1])\n",
    "        for i in range(other):\n",
    "            new = new*self\n",
    "        return new\n",
    "    \n",
    "    def __or__(self, other):\n",
    "        if issubclass(other.__class__, MultiVector):\n",
    "            return HybridMV(self.internal_array|other)\n",
    "        elif issubclass(other.__class__, HybridMV):\n",
    "            newmv = HybridMV(self.internal_array|other.internal_array[0])\n",
    "            newmv.internal_array[1] += self.internal_array[0]|other.internal_array[1]\n",
    "            return newmv\n",
    "        \n",
    "    __ror__ = __or__\n",
    "    \n",
    "    def __str__(self):\n",
    "        total_string = ''\n",
    "        for i in range(len(self.internal_array)):\n",
    "            if i > 0:\n",
    "                total_string +='d' + str(i) + '*[' + str(self.internal_array[i]) + ']'\n",
    "            else:\n",
    "                total_string += str(self.internal_array[i])\n",
    "            if i < len(self.internal_array) -1:\n",
    "                total_string+= ' + '\n",
    "        return total_string\n",
    "    \n",
    "    def __repr__(self):\n",
    "        return str(self)\n",
    "    \n",
    "    @property\n",
    "    def minterm(self):\n",
    "        for i in range(len(self.internal_array)):\n",
    "            if self.internal_array[i] != 0*e1:\n",
    "                return i\n",
    "    \n",
    "    def trim(self, order=1):\n",
    "        \"\"\"\n",
    "        Removes anything above the order specified\n",
    "        \"\"\"\n",
    "        return HybridMV(self.internal_array[0:order+1])\n",
    "    \n",
    "    def homo(self):\n",
    "        return HybridMV(self.internal_array/(self.internal_array[0][4]))\n",
    "\n",
    "    def __invert__(self):\n",
    "        return HybridMV(~self.internal_array)\n",
    "    \n",
    "    def to_point(self):\n",
    "        return self.homo().internal_array[1] + e4\n",
    "    \n",
    "    @staticmethod\n",
    "    def from_point(X):\n",
    "        newmv = HybridMV()\n",
    "        newmv.internal_array[0][4] = X[4]\n",
    "        newmv.internal_array[1].value[1:4] = X.value[1:4]\n",
    "        return newmv\n",
    "    \n",
    "    def apply(self, other):\n",
    "        return (R*HybridMV.from_point(other)*~R).to_point()\n",
    "    "
   ]
  },
  {
   "cell_type": "code",
   "execution_count": 4,
   "metadata": {},
   "outputs": [
    {
     "data": {
      "text/plain": [
       "0 + d1*[1.0]"
      ]
     },
     "execution_count": 4,
     "metadata": {},
     "output_type": "execute_result"
    }
   ],
   "source": [
    "# Create the dual unit\n",
    "d1 = HybridMV([0*e1, 0*e1 + 1.0])\n",
    "d1"
   ]
  },
  {
   "cell_type": "code",
   "execution_count": 5,
   "metadata": {},
   "outputs": [
    {
     "data": {
      "text/plain": [
       "0 + d1*[(1.0^e1234)]"
      ]
     },
     "execution_count": 5,
     "metadata": {},
     "output_type": "execute_result"
    }
   ],
   "source": [
    "d1*((d1 + 2*d1*e12) + e1234)"
   ]
  },
  {
   "cell_type": "code",
   "execution_count": 6,
   "metadata": {},
   "outputs": [],
   "source": [
    "I4 = e1234\n",
    "\n",
    "def up(x):\n",
    "    return x + e4\n",
    "\n",
    "def homo(x):\n",
    "    return x/((x|e4)[0])\n",
    "\n",
    "def down(x):\n",
    "    return homo(x)(e123)\n",
    "\n",
    "def apply(X,R):\n",
    "    return R.apply(X)\n",
    "\n",
    "def meet(X, Y):\n",
    "    return ((X*I4)^(Y*I4))*I4\n",
    "\n",
    "def random_euc_point():\n",
    "    return random.randn()*e1 + random.randn()*e2 + random.randn()*e3\n",
    "\n",
    "def random_point():\n",
    "    return up(random_euc_point())"
   ]
  },
  {
   "cell_type": "markdown",
   "metadata": {},
   "source": [
    "# Lets have a go with intersecting a plane and a line"
   ]
  },
  {
   "cell_type": "code",
   "execution_count": 7,
   "metadata": {},
   "outputs": [
    {
     "name": "stdout",
     "output_type": "stream",
     "text": [
      "(1.0^e1) + (1.0^e4)\n",
      "(1.0^e2) + (1.0^e4)\n",
      "(2.0^e1) - (3.0^e2) + (1.0^e3) + (1.0^e4)\n"
     ]
    }
   ],
   "source": [
    "# Create some points\n",
    "A = up(1.0*e1)\n",
    "B = up(1.0*e2)\n",
    "C = up(2.0*e1 - 3.0*e2 + 1.0*e3)\n",
    "print(A)\n",
    "print(B)\n",
    "print(C)"
   ]
  },
  {
   "cell_type": "code",
   "execution_count": 8,
   "metadata": {},
   "outputs": [
    {
     "name": "stdout",
     "output_type": "stream",
     "text": [
      "-(3.0^e12) + (1.0^e13) - (1.0^e14) + (3.0^e24) - (1.0^e34)\n",
      "-(2.0^e124) + (1.0^e234)\n"
     ]
    }
   ],
   "source": [
    "# Wedge the points to give a line and a plane\n",
    "L1 = A^C\n",
    "P2 = B^C^up(0*e1)\n",
    "print(L1)\n",
    "print(P2)"
   ]
  },
  {
   "cell_type": "code",
   "execution_count": 9,
   "metadata": {},
   "outputs": [
    {
     "data": {
      "text/plain": [
       "(2.0^e1) - (3.0^e2) + (1.0^e3) + (1.0^e4)"
      ]
     },
     "execution_count": 9,
     "metadata": {},
     "output_type": "execute_result"
    }
   ],
   "source": [
    "# Perform the meet as usual with the dual and wedge\n",
    "meet(L1,P2)"
   ]
  },
  {
   "cell_type": "code",
   "execution_count": 10,
   "metadata": {},
   "outputs": [
    {
     "data": {
      "text/plain": [
       "(2.0^e1) - (3.0^e2) + (1.0^e3) + (1.0^e4)"
      ]
     },
     "execution_count": 10,
     "metadata": {},
     "output_type": "execute_result"
    }
   ],
   "source": [
    "# Homogenise to get the point at the intersection\n",
    "meet(L1,P2)"
   ]
  },
  {
   "cell_type": "code",
   "execution_count": 11,
   "metadata": {},
   "outputs": [
    {
     "data": {
      "text/plain": [
       "(2.0^e1) - (3.0^e2) + (1.0^e3)"
      ]
     },
     "execution_count": 11,
     "metadata": {},
     "output_type": "execute_result"
    }
   ],
   "source": [
    "# Call down to convert back to a normal euc point\n",
    "down(meet(L1,P2))"
   ]
  },
  {
   "cell_type": "code",
   "execution_count": 12,
   "metadata": {},
   "outputs": [
    {
     "name": "stdout",
     "output_type": "stream",
     "text": [
      "2.86 µs ± 89 ns per loop (mean ± std. dev. of 7 runs, 100000 loops each)\n"
     ]
    }
   ],
   "source": [
    "%%timeit\n",
    "A*C"
   ]
  },
  {
   "cell_type": "code",
   "execution_count": 13,
   "metadata": {},
   "outputs": [
    {
     "name": "stdout",
     "output_type": "stream",
     "text": [
      "33.4 µs ± 2.39 µs per loop (mean ± std. dev. of 7 runs, 10000 loops each)\n"
     ]
    }
   ],
   "source": [
    "%%timeit\n",
    "d1*C"
   ]
  },
  {
   "cell_type": "code",
   "execution_count": 14,
   "metadata": {},
   "outputs": [
    {
     "data": {
      "text/plain": [
       "0 + d1*[(2.0^e1) - (3.0^e2) + (1.0^e3) + (1.0^e4)]"
      ]
     },
     "execution_count": 14,
     "metadata": {},
     "output_type": "execute_result"
    }
   ],
   "source": [
    "d1*C"
   ]
  },
  {
   "cell_type": "markdown",
   "metadata": {},
   "source": [
    "# Translators"
   ]
  },
  {
   "cell_type": "code",
   "execution_count": 20,
   "metadata": {},
   "outputs": [],
   "source": [
    "def translation_rotor(t):\n",
    "    return 0.5*(d1*t)*e4 + 1"
   ]
  },
  {
   "cell_type": "code",
   "execution_count": 21,
   "metadata": {},
   "outputs": [
    {
     "name": "stdout",
     "output_type": "stream",
     "text": [
      "1.0 + d1*[(5.0^e14) + (2.5^e34)]\n",
      "1.0 + d1*[0]\n"
     ]
    }
   ],
   "source": [
    "R = translation_rotor(10*e1+5*e3)\n",
    "print(R)\n",
    "print(R*~R)"
   ]
  },
  {
   "cell_type": "code",
   "execution_count": 22,
   "metadata": {},
   "outputs": [
    {
     "data": {
      "text/plain": [
       "(2.0^e1) - (3.0^e2) + (1.0^e3) + (1.0^e4) + d1*[(10.0^e1) + (5.0^e3) - (25.0^e4)]"
      ]
     },
     "execution_count": 22,
     "metadata": {},
     "output_type": "execute_result"
    }
   ],
   "source": [
    "R*C*~R"
   ]
  },
  {
   "cell_type": "code",
   "execution_count": 23,
   "metadata": {},
   "outputs": [
    {
     "data": {
      "text/plain": [
       "(2.0^e1) - (3.0^e2) + (1.0^e3) + (1.0^e4)"
      ]
     },
     "execution_count": 23,
     "metadata": {},
     "output_type": "execute_result"
    }
   ],
   "source": [
    "C"
   ]
  },
  {
   "cell_type": "code",
   "execution_count": 24,
   "metadata": {},
   "outputs": [
    {
     "data": {
      "text/plain": [
       "(12.0^e1) - (3.0^e2) + (6.0^e3) + (1.0^e4)"
      ]
     },
     "execution_count": 24,
     "metadata": {},
     "output_type": "execute_result"
    }
   ],
   "source": [
    "apply(C,R)"
   ]
  },
  {
   "cell_type": "code",
   "execution_count": 25,
   "metadata": {},
   "outputs": [
    {
     "name": "stdout",
     "output_type": "stream",
     "text": [
      "144 µs ± 1.81 µs per loop (mean ± std. dev. of 7 runs, 10000 loops each)\n"
     ]
    }
   ],
   "source": [
    "%%timeit\n",
    "apply(C,R)"
   ]
  },
  {
   "cell_type": "code",
   "execution_count": 26,
   "metadata": {},
   "outputs": [
    {
     "name": "stdout",
     "output_type": "stream",
     "text": [
      " "
     ]
    }
   ],
   "source": [
    "%%prun -s cumulative\n",
    "for i in range(10000):\n",
    "    apply(C,R)"
   ]
  },
  {
   "cell_type": "code",
   "execution_count": 27,
   "metadata": {},
   "outputs": [
    {
     "data": {
      "text/plain": [
       "(12.0^e1) - (3.0^e2) + (6.0^e3) + (1.0^e4)"
      ]
     },
     "execution_count": 27,
     "metadata": {},
     "output_type": "execute_result"
    }
   ],
   "source": [
    "apply(C,R)"
   ]
  },
  {
   "cell_type": "markdown",
   "metadata": {},
   "source": [
    "# Rotation rotors are the same as in 3D"
   ]
  },
  {
   "cell_type": "code",
   "execution_count": 28,
   "metadata": {},
   "outputs": [],
   "source": [
    "def rotation_rotor(m,n,theta):\n",
    "    B = (m*n).normal()\n",
    "    rotor = np.cos(theta / 2) - B * np.sin(theta / 2)\n",
    "    return rotor"
   ]
  },
  {
   "cell_type": "code",
   "execution_count": 29,
   "metadata": {},
   "outputs": [
    {
     "name": "stdout",
     "output_type": "stream",
     "text": [
      "0.92388 - (0.38268^e12)\n",
      "1.0\n"
     ]
    }
   ],
   "source": [
    "R = rotation_rotor(e1,e2,np.pi/4)\n",
    "print(R)\n",
    "print(R*~R)"
   ]
  },
  {
   "cell_type": "code",
   "execution_count": 30,
   "metadata": {},
   "outputs": [
    {
     "name": "stdout",
     "output_type": "stream",
     "text": [
      "(0.70711^e1) + (0.70711^e2) + (1.0^e4)\n",
      "(0.70711^e1) + (0.70711^e2)\n",
      "(0.70711^e1) + (0.70711^e2)\n",
      "(3.53553^e1) - (0.70711^e2) + (1.0^e3)\n",
      "(3.53553^e1) - (0.70711^e2) + (1.0^e3)\n"
     ]
    }
   ],
   "source": [
    "print(R*(up(e1)*~R))\n",
    "print(down(R*(up(e1)*~R)))\n",
    "print(R*e1*~R)\n",
    "print(down((R*C*~R)))\n",
    "print(down((R*(C*I4)*~R)*I4))"
   ]
  },
  {
   "cell_type": "code",
   "execution_count": null,
   "metadata": {},
   "outputs": [],
   "source": []
  },
  {
   "cell_type": "code",
   "execution_count": null,
   "metadata": {},
   "outputs": [],
   "source": []
  }
 ],
 "metadata": {
  "kernelspec": {
   "display_name": "Python 3",
   "language": "python",
   "name": "python3"
  },
  "language_info": {
   "codemirror_mode": {
    "name": "ipython",
    "version": 3
   },
   "file_extension": ".py",
   "mimetype": "text/x-python",
   "name": "python",
   "nbconvert_exporter": "python",
   "pygments_lexer": "ipython3",
   "version": "3.7.3"
  }
 },
 "nbformat": 4,
 "nbformat_minor": 2
}
